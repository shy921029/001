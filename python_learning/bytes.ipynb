{
 "cells": [
  {
   "cell_type": "code",
   "execution_count": 1,
   "metadata": {},
   "outputs": [
    {
     "output_type": "stream",
     "name": "stdout",
     "text": "b'abcdefg' <class 'bytes'> len= 7\n"
    }
   ],
   "source": [
    "# bytes 只读的二进制字节流\n",
    "# 1 byte = 8 bits\n",
    "buffer = b'abcdefg'\n",
    "print(buffer, type(buffer), 'len=',len(buffer))"
   ]
  },
  {
   "cell_type": "code",
   "execution_count": 3,
   "metadata": {},
   "outputs": [
    {
     "output_type": "stream",
     "name": "stdout",
     "text": "b'ce'\n"
    }
   ],
   "source": [
    "# 可以切片\n",
    "print(buffer[2:6:2])"
   ]
  },
  {
   "cell_type": "code",
   "execution_count": 6,
   "metadata": {},
   "outputs": [
    {
     "output_type": "stream",
     "name": "stdout",
     "text": "17\n"
    }
   ],
   "source": [
    "buffer = b'\\x11\\xff\\x77'\n",
    "print(\"%d\" % buffer[0])"
   ]
  },
  {
   "cell_type": "code",
   "execution_count": 9,
   "metadata": {},
   "outputs": [
    {
     "output_type": "stream",
     "name": "stdout",
     "text": "little endian: b'\\xfe\\xff'\nbig endian b'\\xff\\xfe'\n"
    }
   ],
   "source": [
    "x = 65534\n",
    "# 高位字节存高地址(Intel ARM) 主流\n",
    "bufferLittle = x.to_bytes(2, 'little')\n",
    "print(\"little endian:\", bufferLittle)\n",
    "# 高位字节存低地址\n",
    "bufferBig = x.to_bytes(2, \"big\")\n",
    "print(\"big endian\", bufferBig)"
   ]
  },
  {
   "cell_type": "code",
   "execution_count": 12,
   "metadata": {},
   "outputs": [
    {
     "output_type": "stream",
     "name": "stdout",
     "text": "65534\n"
    }
   ],
   "source": [
    "# 还原\n",
    "y = int.from_bytes(bufferLittle, \"little\")\n",
    "print(y)"
   ]
  },
  {
   "cell_type": "code",
   "execution_count": null,
   "metadata": {},
   "outputs": [],
   "source": []
  }
 ],
 "metadata": {
  "language_info": {
   "codemirror_mode": {
    "name": "ipython",
    "version": 3
   },
   "file_extension": ".py",
   "mimetype": "text/x-python",
   "name": "python",
   "nbconvert_exporter": "python",
   "pygments_lexer": "ipython3",
   "version": "3.7.3-final"
  },
  "orig_nbformat": 2,
  "kernelspec": {
   "name": "python37364bit55beb8ed8f2441f2a1b8f4aa287895d1",
   "display_name": "Python 3.7.3 64-bit"
  }
 },
 "nbformat": 4,
 "nbformat_minor": 2
}