{
 "cells": [
  {
   "cell_type": "markdown",
   "metadata": {},
   "source": [
    "# name binding\n",
    "# 名字绑定"
   ]
  },
  {
   "cell_type": "code",
   "execution_count": 1,
   "metadata": {},
   "outputs": [
    {
     "output_type": "stream",
     "name": "stdout",
     "text": "140710832005776\n140710832005808\n140710832005808\n140710832005840\n"
    }
   ],
   "source": [
    "# 赋值只是把变量名指向object的内存地址\n",
    "# 整数是只读类型\n",
    "a = 1\n",
    "print(id(a)) # 输出内存地址\n",
    "a = 2\n",
    "print(id(a))\n",
    "\n",
    "# a, b指向同一个内存地址\n",
    "b = a\n",
    "print(id(b))\n",
    "\n",
    "# 生成了新的对象\n",
    "a += 1\n",
    "print(id(a))"
   ]
  },
  {
   "cell_type": "code",
   "execution_count": 2,
   "metadata": {},
   "outputs": [
    {
     "output_type": "stream",
     "name": "stdout",
     "text": "140710832005776\n"
    }
   ],
   "source": [
    "# 编译器可能预先设置了1这种常用整数的内存地址\n",
    "c = 2 - 1\n",
    "print(id(c))"
   ]
  },
  {
   "cell_type": "code",
   "execution_count": 3,
   "metadata": {},
   "outputs": [
    {
     "output_type": "stream",
     "name": "stdout",
     "text": "True\nFalse\nTrue\n140710832005840 2047835837208 140710832005840\n"
    }
   ],
   "source": [
    "# is, 判断内存地址是否相同\n",
    "a = 3\n",
    "b = 3.0\n",
    "c = 3\n",
    "print(a == b) # 值比较\n",
    "print(a is b) # False\n",
    "print(a is c) # True\n",
    "print(id(a), id(b), id(c))"
   ]
  },
  {
   "cell_type": "markdown",
   "metadata": {},
   "source": [
    "## 只读数据类型：\n",
    "    int, float, bool, str, bytes, tuple\n",
    "## 可修改数据类型：\n",
    "    list, bytearray, dict"
   ]
  },
  {
   "cell_type": "code",
   "execution_count": 4,
   "metadata": {},
   "outputs": [
    {
     "output_type": "stream",
     "name": "stdout",
     "text": "abc def\n['d', 'b', 'c'] ['d', 'b', 'c']\n['a', 'b', 'c'] ['d', 'b', 'c']\n"
    }
   ],
   "source": [
    "# 区别，理解python的名字绑定的机制\n",
    "# 只读类型数据，生成新的对象赋值给b\n",
    "a = 'abc'\n",
    "b = a\n",
    "b = 'def'\n",
    "print(a, b)\n",
    "# 可修改类型数据，指向同一个对象，修改b即改变\n",
    "# 不希望改动则需要生成新的对象\n",
    "a = ['a', 'b', 'c']\n",
    "b = a\n",
    "b[0] = 'd'\n",
    "print(a, b)\n",
    "a = ['a', 'b', 'c']\n",
    "b = a.copy() # 或 b = a[:]\n",
    "b[0] = 'd'\n",
    "print(a, b) # a指向的对象未改变"
   ]
  },
  {
   "cell_type": "code",
   "execution_count": 5,
   "metadata": {},
   "outputs": [
    {
     "output_type": "stream",
     "name": "stdout",
     "text": "2047836938760 2047836939144\n2047836938824 2047836938824\n['a', 'b', 'c', [1, 2, 4]] ['a', 'b', 'c', [1, 2, 4]]\n2047836917640 2047835794248\n2047836623304 2047836917384\n['a', 'b', 'c', [1, 2, 3]] ['a', 'b', 'c', [1, 2, 4]]\n"
    }
   ],
   "source": [
    "# copy(), deepcopy()区别\n",
    "a = ['a', 'b', 'c', [1, 2, 3]]\n",
    "b = a.copy() # 或 copy.copy()\n",
    "print(id(a), id(b))\n",
    "print(id(a[3]), id(b[3])) # 浅拷贝只拷贝了顶层，未真正生成新的对象\n",
    "b[3][2] = 4\n",
    "print(a, b) # a, b同时改变\n",
    "# deepcopy()\n",
    "import copy\n",
    "a = ['a', 'b', 'c', [1, 2, 3]]\n",
    "b = copy.deepcopy(a)\n",
    "print(id(a), id(b))\n",
    "print(id(a[3]), id(b[3])) # 深拷贝,子列表也拷贝，生成新的对象\n",
    "b[3][2] = 4\n",
    "print(a, b) # a, b不会同时改变"
   ]
  },
  {
   "cell_type": "code",
   "execution_count": null,
   "metadata": {},
   "outputs": [],
   "source": []
  }
 ],
 "metadata": {
  "language_info": {
   "codemirror_mode": {
    "name": "ipython",
    "version": 3
   },
   "file_extension": ".py",
   "mimetype": "text/x-python",
   "name": "python",
   "nbconvert_exporter": "python",
   "pygments_lexer": "ipython3",
   "version": "3.7.3-final"
  },
  "orig_nbformat": 2,
  "kernelspec": {
   "name": "python37364bit55beb8ed8f2441f2a1b8f4aa287895d1",
   "display_name": "Python 3.7.3 64-bit"
  }
 },
 "nbformat": 4,
 "nbformat_minor": 2
}