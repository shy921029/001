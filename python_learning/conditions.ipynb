{
 "cells": [
  {
   "cell_type": "markdown",
   "metadata": {},
   "source": [
    "# 条件"
   ]
  },
  {
   "cell_type": "markdown",
   "metadata": {},
   "source": [
    "## 序列解包\n",
    "## sequence unpack"
   ]
  },
  {
   "cell_type": "code",
   "execution_count": 1,
   "metadata": {},
   "outputs": [
    {
     "output_type": "stream",
     "name": "stdout",
     "text": "x y z\n<class 'tuple'> (1, 2, 3)\n1 2 3\n"
    }
   ],
   "source": [
    "x, y, z = 'x', 'y', 'z'\n",
    "print(x, y, z)\n",
    "numbers = 1, 2, 3 # 不加()也是元组\n",
    "print(type(numbers), numbers)\n",
    "a, b, c = numbers\n",
    "print(a, b, c)"
   ]
  },
  {
   "cell_type": "code",
   "execution_count": 2,
   "metadata": {},
   "outputs": [
    {
     "output_type": "stream",
     "name": "stdout",
     "text": "y x\na b c\n"
    }
   ],
   "source": [
    "# 交换\n",
    "x, y = 'x', 'y'\n",
    "x, y = y, x\n",
    "print(x, y)"
   ]
  },
  {
   "cell_type": "code",
   "execution_count": 5,
   "metadata": {},
   "outputs": [
    {
     "output_type": "stream",
     "name": "stdout",
     "text": "a b c\na ['b', 'c', 'd', 'e', 'f', 'g']\na g\nLeonardo - ['di', 'ser', 'Piero'] - Da Vinci\n"
    }
   ],
   "source": [
    "# 字符串, 序列均可以解包，两边的元素个数必须相等\n",
    "x, y, z = 'abc'\n",
    "print(x, y, z)\n",
    "x, *rest = 'abcdefg' # *表达式为一个列表\n",
    "print(x, rest)\n",
    "x, *_, y = 'abcdefg' # 不想要的元素可以用占位符\n",
    "print(x, y)\n",
    "first, *middle, last1, last2 = \"Leonardo di ser Piero Da Vinci\".split()\n",
    "print(first, '-', middle, '-', last1, last2)"
   ]
  },
  {
   "cell_type": "markdown",
   "metadata": {},
   "source": [
    "## 条件语句\n",
    "- if else\n",
    "- if elif else\n",
    "- and, or\n",
    "- assert"
   ]
  },
  {
   "cell_type": "code",
   "execution_count": null,
   "metadata": {},
   "outputs": [],
   "source": [
    "# 条件语句 if else, if elif else, python中没有switch语句\n",
    "iAge = int(input(\"Age(int):\"))\n",
    "if iAge > 18:\n",
    "    print(\"已成年\")\n",
    "else:\n",
    "    print(\"未成年\")"
   ]
  },
  {
   "cell_type": "code",
   "execution_count": 12,
   "metadata": {},
   "outputs": [
    {
     "output_type": "stream",
     "name": "stdout",
     "text": "February\n28 or 29 days in February\n"
    }
   ],
   "source": [
    "sMonth = 'February '\n",
    "print(sMonth.strip()) # 删除头尾的指定字符\n",
    "sMonth = sMonth.strip().title() # 或 sMonth.strip().lower(),方便使用者输入\n",
    "if sMonth in ['January', 'March', 'May', 'July', 'August', 'October', 'December']:\n",
    "    print('31 days in %s' % sMonth)\n",
    "elif sMonth in ['April', 'June', 'September', 'November']:\n",
    "    print('30 days in %s' % sMonth)\n",
    "else:\n",
    "    print('28 or 29 days in %s' % sMonth)"
   ]
  },
  {
   "cell_type": "code",
   "execution_count": 13,
   "metadata": {},
   "outputs": [
    {
     "output_type": "stream",
     "name": "stdout",
     "text": "20\n"
    }
   ],
   "source": [
    "# 条件语句\n",
    "sGender = 'girl'\n",
    "iMarryAge = 22 if sGender == 'boy' else 20\n",
    "print(iMarryAge)"
   ]
  },
  {
   "cell_type": "code",
   "execution_count": 3,
   "metadata": {},
   "outputs": [
    {
     "output_type": "stream",
     "name": "stdout",
     "text": "No one\n"
    }
   ],
   "source": [
    "# 布尔运算的短路\n",
    "# a and b and c, a为假即为假，不再做后面的判断了\n",
    "# a or b, a为真就不判断后面了\n",
    "sName = input(\"What's your name?\") or \"No one\" # 输入为空则为No one\n",
    "print(sName)"
   ]
  },
  {
   "cell_type": "code",
   "execution_count": 7,
   "metadata": {},
   "outputs": [
    {
     "output_type": "error",
     "ename": "AssertionError",
     "evalue": "",
     "traceback": [
      "\u001b[1;31m---------------------------------------------------------------------------\u001b[0m",
      "\u001b[1;31mAssertionError\u001b[0m                            Traceback (most recent call last)",
      "\u001b[1;32m<ipython-input-7-8c3b4249cffa>\u001b[0m in \u001b[0;36m<module>\u001b[1;34m\u001b[0m\n\u001b[0;32m     10\u001b[0m     \u001b[1;32mreturn\u001b[0m \u001b[0msum\u001b[0m\u001b[1;33m(\u001b[0m\u001b[0mscores\u001b[0m\u001b[1;33m)\u001b[0m\u001b[1;33m/\u001b[0m\u001b[0mlen\u001b[0m\u001b[1;33m(\u001b[0m\u001b[0mscores\u001b[0m\u001b[1;33m)\u001b[0m\u001b[1;33m\u001b[0m\u001b[1;33m\u001b[0m\u001b[0m\n\u001b[0;32m     11\u001b[0m \u001b[0mcompAverageScore\u001b[0m\u001b[1;33m(\u001b[0m\u001b[0mscores1\u001b[0m\u001b[1;33m)\u001b[0m\u001b[1;33m\u001b[0m\u001b[1;33m\u001b[0m\u001b[0m\n\u001b[1;32m---> 12\u001b[1;33m \u001b[0mcompAverageScore\u001b[0m\u001b[1;33m(\u001b[0m\u001b[0mscores2\u001b[0m\u001b[1;33m)\u001b[0m\u001b[1;33m\u001b[0m\u001b[1;33m\u001b[0m\u001b[0m\n\u001b[0m\u001b[0;32m     13\u001b[0m \u001b[0mcompAverageScore\u001b[0m\u001b[1;33m(\u001b[0m\u001b[0mscores3\u001b[0m\u001b[1;33m)\u001b[0m\u001b[1;33m\u001b[0m\u001b[1;33m\u001b[0m\u001b[0m\n\u001b[0;32m     14\u001b[0m \u001b[0mcompAverageScore\u001b[0m\u001b[1;33m(\u001b[0m\u001b[0mscores4\u001b[0m\u001b[1;33m)\u001b[0m\u001b[1;33m\u001b[0m\u001b[1;33m\u001b[0m\u001b[0m\n",
      "\u001b[1;32m<ipython-input-7-8c3b4249cffa>\u001b[0m in \u001b[0;36mcompAverageScore\u001b[1;34m(scores)\u001b[0m\n\u001b[0;32m      5\u001b[0m \u001b[0mscores4\u001b[0m \u001b[1;33m=\u001b[0m \u001b[1;33m[\u001b[0m\u001b[1;36m78\u001b[0m\u001b[1;33m,\u001b[0m \u001b[1;36m99\u001b[0m\u001b[1;33m,\u001b[0m \u001b[1;36m22\u001b[0m\u001b[1;33m,\u001b[0m \u001b[1;36m12\u001b[0m\u001b[1;33m,\u001b[0m \u001b[1;36m15\u001b[0m\u001b[1;33m,\u001b[0m \u001b[1;36m67\u001b[0m\u001b[1;33m,\u001b[0m \u001b[1;36m101\u001b[0m\u001b[1;33m]\u001b[0m\u001b[1;33m\u001b[0m\u001b[1;33m\u001b[0m\u001b[0m\n\u001b[0;32m      6\u001b[0m \u001b[1;32mdef\u001b[0m \u001b[0mcompAverageScore\u001b[0m\u001b[1;33m(\u001b[0m\u001b[0mscores\u001b[0m\u001b[1;33m)\u001b[0m\u001b[1;33m:\u001b[0m\u001b[1;33m\u001b[0m\u001b[1;33m\u001b[0m\u001b[0m\n\u001b[1;32m----> 7\u001b[1;33m     \u001b[1;32massert\u001b[0m \u001b[0mlen\u001b[0m\u001b[1;33m(\u001b[0m\u001b[0mscores\u001b[0m\u001b[1;33m)\u001b[0m \u001b[1;33m>\u001b[0m \u001b[1;36m0\u001b[0m\u001b[1;33m\u001b[0m\u001b[1;33m\u001b[0m\u001b[0m\n\u001b[0m\u001b[0;32m      8\u001b[0m     \u001b[1;32massert\u001b[0m \u001b[0mmax\u001b[0m\u001b[1;33m(\u001b[0m\u001b[0mscores\u001b[0m\u001b[1;33m)\u001b[0m \u001b[1;33m<=\u001b[0m \u001b[1;36m100\u001b[0m\u001b[1;33m\u001b[0m\u001b[1;33m\u001b[0m\u001b[0m\n\u001b[0;32m      9\u001b[0m     \u001b[1;32massert\u001b[0m \u001b[0mmin\u001b[0m\u001b[1;33m(\u001b[0m\u001b[0mscores\u001b[0m\u001b[1;33m)\u001b[0m \u001b[1;33m>=\u001b[0m \u001b[1;36m0\u001b[0m\u001b[1;33m\u001b[0m\u001b[1;33m\u001b[0m\u001b[0m\n",
      "\u001b[1;31mAssertionError\u001b[0m: "
     ]
    }
   ],
   "source": [
    "# 断言 assert 主要用于测试\n",
    "scores1 = [78, 99, 22, 12, 15, 67]\n",
    "scores2 = []\n",
    "scores3 = [78, 99, 22, 12, 15, 67, -1]\n",
    "scores4 = [78, 99, 22, 12, 15, 67, 101]\n",
    "def compAverageScore(scores):\n",
    "    assert len(scores) > 0\n",
    "    assert max(scores) <= 100\n",
    "    assert min(scores) >= 0\n",
    "    return sum(scores)/len(scores)\n",
    "compAverageScore(scores1)\n",
    "compAverageScore(scores2)\n",
    "compAverageScore(scores3)\n",
    "compAverageScore(scores4)"
   ]
  },
  {
   "cell_type": "code",
   "execution_count": null,
   "metadata": {},
   "outputs": [],
   "source": []
  }
 ],
 "metadata": {
  "language_info": {
   "codemirror_mode": {
    "name": "ipython",
    "version": 3
   },
   "file_extension": ".py",
   "mimetype": "text/x-python",
   "name": "python",
   "nbconvert_exporter": "python",
   "pygments_lexer": "ipython3",
   "version": "3.7.3-final"
  },
  "orig_nbformat": 2,
  "kernelspec": {
   "name": "python37364bit55beb8ed8f2441f2a1b8f4aa287895d1",
   "display_name": "Python 3.7.3 64-bit"
  }
 },
 "nbformat": 4,
 "nbformat_minor": 2
}