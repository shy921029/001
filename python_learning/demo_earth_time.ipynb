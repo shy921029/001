{
 "cells": [
  {
   "cell_type": "code",
   "execution_count": 1,
   "metadata": {},
   "outputs": [
    {
     "output_type": "stream",
     "name": "stdout",
     "text": "1970.1.1零时以来经过了441780时或26506825分或1590409528秒\n格林尼治时间-12h:25m:28s\n北京时间-20h:25m:28s\n2020-05-25 20:25:28.478337\n"
    }
   ],
   "source": [
    "# 地球时间\n",
    "# RTC real time clock\n",
    "# 格林尼治时间1970.1.1零时起的总秒数\n",
    "import time\n",
    "\n",
    "totalTime = int(time.time())\n",
    "\n",
    "currentSecond = totalTime % 60  # 当前秒数 求模\n",
    "\n",
    "totalMinutes = totalTime // 60  # 总分钟  整除\n",
    "currentMinute = totalMinutes % 60  # 当前分钟数\n",
    "\n",
    "totalHours = totalMinutes // 60  # 总小时\n",
    "currentHour = totalHours % 24  # 当前小时\n",
    "\n",
    "print(\"1970.1.1零时以来经过了%d时或%d分或%d秒\" % (totalHours, totalMinutes, totalTime))\n",
    "\n",
    "print(\"格林尼治时间-%dh:%dm:%ds\" % (currentHour, currentMinute, currentSecond))\n",
    "\n",
    "# 北京时间\n",
    "currentHour += 8\n",
    "print(\"北京时间-%dh:%dm:%ds\" % (currentHour, currentMinute, currentSecond))\n",
    "\n",
    "import datetime\n",
    "currentDate = datetime.datetime.now()\n",
    "print(currentDate)"
   ]
  },
  {
   "cell_type": "code",
   "execution_count": null,
   "metadata": {},
   "outputs": [],
   "source": []
  }
 ],
 "metadata": {
  "language_info": {
   "codemirror_mode": {
    "name": "ipython",
    "version": 3
   },
   "file_extension": ".py",
   "mimetype": "text/x-python",
   "name": "python",
   "nbconvert_exporter": "python",
   "pygments_lexer": "ipython3",
   "version": "3.7.3-final"
  },
  "orig_nbformat": 2,
  "kernelspec": {
   "name": "python37364bit55beb8ed8f2441f2a1b8f4aa287895d1",
   "display_name": "Python 3.7.3 64-bit"
  }
 },
 "nbformat": 4,
 "nbformat_minor": 2
}