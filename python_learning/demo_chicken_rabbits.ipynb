{
 "cells": [
  {
   "cell_type": "code",
   "execution_count": 1,
   "metadata": {},
   "outputs": [
    {
     "output_type": "stream",
     "name": "stdout",
     "text": "True\nNumber of chicken = 23, Number of rabbits = 12\n"
    }
   ],
   "source": [
    "# 鸡兔同笼\n",
    "iHeads = 35  # 头的数量\n",
    "iFeet = 94  # 脚的数量\n",
    "a = iFeet - iHeads * 2  # 假设全部是鸡\n",
    "iRabbits = a / 2  # 兔子数量\n",
    "iChicken = iHeads - iRabbits  # 鸡的数量\n",
    "print(iFeet == iChicken * 2 + iRabbits * 4)\n",
    "print(\"Number of chicken = %d, Number of rabbits = %d\" % (iChicken, iRabbits))"
   ]
  },
  {
   "cell_type": "code",
   "execution_count": null,
   "metadata": {},
   "outputs": [],
   "source": []
  }
 ],
 "metadata": {
  "language_info": {
   "codemirror_mode": {
    "name": "ipython",
    "version": 3
   },
   "file_extension": ".py",
   "mimetype": "text/x-python",
   "name": "python",
   "nbconvert_exporter": "python",
   "pygments_lexer": "ipython3",
   "version": "3.7.3-final"
  },
  "orig_nbformat": 2,
  "kernelspec": {
   "name": "python37364bit55beb8ed8f2441f2a1b8f4aa287895d1",
   "display_name": "Python 3.7.3 64-bit"
  }
 },
 "nbformat": 4,
 "nbformat_minor": 2
}