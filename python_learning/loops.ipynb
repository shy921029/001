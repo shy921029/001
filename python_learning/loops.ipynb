{
 "cells": [
  {
   "cell_type": "markdown",
   "metadata": {},
   "source": [
    "# for 循环"
   ]
  },
  {
   "cell_type": "code",
   "execution_count": 1,
   "metadata": {},
   "outputs": [
    {
     "output_type": "stream",
     "name": "stdout",
     "text": "a - b - c - d - e - f - g - \n2 - 3 - 2 - 2 - \n[2, 6, 10, 14, 18]\n"
    }
   ],
   "source": [
    "# 遍历任意可迭代对象\n",
    "s = ''\n",
    "for x in 'abcdefg':\n",
    "    s = s + x + ' - '\n",
    "print(s)\n",
    "\n",
    "s = ''\n",
    "for x in [2, 3, 2, 2]:\n",
    "    s = s + str(x) + ' - '\n",
    "print(s)\n",
    "\n",
    "s = []\n",
    "for x in range(2, 20, 4):\n",
    "    s.append(x)\n",
    "print(s)"
   ]
  },
  {
   "cell_type": "markdown",
   "metadata": {},
   "source": [
    "# while 循环 "
   ]
  },
  {
   "cell_type": "code",
   "execution_count": 2,
   "metadata": {},
   "outputs": [
    {
     "output_type": "stream",
     "name": "stdout",
     "text": "5050\n"
    }
   ],
   "source": [
    "# 先判断后执行\n",
    "results = i = 0\n",
    "while i <= 100:\n",
    "    results += i\n",
    "    i += 1\n",
    "print(results)"
   ]
  },
  {
   "cell_type": "code",
   "execution_count": 3,
   "metadata": {},
   "outputs": [],
   "source": [
    "# break 跳出当前循环\n",
    "# continue 跳过当次循环\n",
    "# pass 什么都不做，占位以完整语法结构"
   ]
  },
  {
   "cell_type": "code",
   "execution_count": 4,
   "metadata": {},
   "outputs": [
    {
     "output_type": "stream",
     "name": "stdout",
     "text": "<zip object at 0x00000160117512C8>\n[('Tom', 1200), ('Andy', 1500), ('Alex', 1550), ('Dorothy', 2100)]\n"
    }
   ],
   "source": [
    "# 序列缝合 循环解包 zip()\n",
    "names = ['Tom', 'Andy', 'Alex', 'Dorothy']\n",
    "salarys = [1200, 1500, 1550, 2100]\n",
    "zipped = zip(names, salarys)\n",
    "print(zipped)\n",
    "print(list(zipped))"
   ]
  },
  {
   "cell_type": "code",
   "execution_count": 5,
   "metadata": {},
   "outputs": [
    {
     "output_type": "stream",
     "name": "stdout",
     "text": "Tom 1200\nAndy 1500\nAlex 1550\nDorothy 2100\n"
    }
   ],
   "source": [
    "for name, salary in zip(names, salarys):\n",
    "    print(name, salary)"
   ]
  },
  {
   "cell_type": "code",
   "execution_count": 6,
   "metadata": {},
   "outputs": [
    {
     "output_type": "stream",
     "name": "stdout",
     "text": "0 Tom\n1 Andy\n2 Alex\n3 Dorothy\n"
    }
   ],
   "source": [
    "# 带下标的遍历 enumerate()\n",
    "for index, name in enumerate(names):\n",
    "    print(index, name)"
   ]
  },
  {
   "cell_type": "code",
   "execution_count": 7,
   "metadata": {},
   "outputs": [
    {
     "output_type": "stream",
     "name": "stdout",
     "text": "Anything\n"
    },
    {
     "output_type": "error",
     "ename": "NameError",
     "evalue": "name 'y' is not defined",
     "traceback": [
      "\u001b[1;31m---------------------------------------------------------------------------\u001b[0m",
      "\u001b[1;31mNameError\u001b[0m                                 Traceback (most recent call last)",
      "\u001b[1;32m<ipython-input-7-20ec13cf9691>\u001b[0m in \u001b[0;36m<module>\u001b[1;34m\u001b[0m\n\u001b[0;32m      4\u001b[0m \u001b[1;32mdel\u001b[0m \u001b[0my\u001b[0m \u001b[1;31m# 删除了name y,以及y与对象的绑定\u001b[0m\u001b[1;33m\u001b[0m\u001b[1;33m\u001b[0m\u001b[0m\n\u001b[0;32m      5\u001b[0m \u001b[0mprint\u001b[0m\u001b[1;33m(\u001b[0m\u001b[0mx\u001b[0m\u001b[1;33m)\u001b[0m\u001b[1;33m\u001b[0m\u001b[1;33m\u001b[0m\u001b[0m\n\u001b[1;32m----> 6\u001b[1;33m \u001b[0mprint\u001b[0m\u001b[1;33m(\u001b[0m\u001b[0my\u001b[0m\u001b[1;33m)\u001b[0m\u001b[1;33m\u001b[0m\u001b[1;33m\u001b[0m\u001b[0m\n\u001b[0m",
      "\u001b[1;31mNameError\u001b[0m: name 'y' is not defined"
     ]
    }
   ],
   "source": [
    "# del\n",
    "x = 'Anything'\n",
    "y = x\n",
    "del y # 删除了name y,以及y与对象的绑定\n",
    "print(x)\n",
    "print(y)"
   ]
  },
  {
   "cell_type": "code",
   "execution_count": 8,
   "metadata": {},
   "outputs": [
    {
     "output_type": "stream",
     "name": "stdout",
     "text": "this string was print in exec function.\n"
    }
   ],
   "source": [
    "# exec 可以执行动态代码\n",
    "exec(\"print('this string was print in exec function.')\")"
   ]
  },
  {
   "cell_type": "code",
   "execution_count": 9,
   "metadata": {},
   "outputs": [
    {
     "output_type": "stream",
     "name": "stdout",
     "text": "50\n"
    }
   ],
   "source": [
    "scopeTemp = {}\n",
    "scopeTemp['x'] = 30\n",
    "scopeTemp['y'] = 20\n",
    "exec(\"sum = x + y\", scopeTemp) # 第二个参数为作用域\n",
    "print(scopeTemp[\"sum\"])"
   ]
  },
  {
   "cell_type": "code",
   "execution_count": 10,
   "metadata": {},
   "outputs": [
    {
     "output_type": "stream",
     "name": "stdout",
     "text": "this string was print in eval function.\n0\n"
    }
   ],
   "source": [
    "# eval evaluation\n",
    "eval(\"print('this string was print in eval function.')\")\n",
    "r = eval(\"3+2-5\")\n",
    "print(r)"
   ]
  },
  {
   "cell_type": "code",
   "execution_count": null,
   "metadata": {},
   "outputs": [],
   "source": []
  }
 ],
 "metadata": {
  "language_info": {
   "codemirror_mode": {
    "name": "ipython",
    "version": 3
   },
   "file_extension": ".py",
   "mimetype": "text/x-python",
   "name": "python",
   "nbconvert_exporter": "python",
   "pygments_lexer": "ipython3",
   "version": "3.7.3-final"
  },
  "orig_nbformat": 2,
  "kernelspec": {
   "name": "python37364bit55beb8ed8f2441f2a1b8f4aa287895d1",
   "display_name": "Python 3.7.3 64-bit"
  }
 },
 "nbformat": 4,
 "nbformat_minor": 2
}