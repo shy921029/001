{
 "cells": [
  {
   "cell_type": "code",
   "execution_count": null,
   "metadata": {},
   "outputs": [],
   "source": [
    "# list\n",
    "names = ['ben', 'dick', 'emily', 'alise', 'cindy']\n",
    "\n",
    "names.sort()  # 可以指定key函数来自定义排序\n",
    "print(names)\n",
    "\n",
    "names.reverse()\n",
    "print(names)\n",
    "\n",
    "namesSorted = sorted(names)\n",
    "print(names)\n",
    "print(namesSorted)\n",
    "#  同样还有reversed()函数"
   ]
  },
  {
   "cell_type": "code",
   "execution_count": 2,
   "metadata": {},
   "outputs": [
    {
     "output_type": "stream",
     "name": "stdout",
     "text": "emily\ndick\ncindy\nben\nalise\n2\n3\n4\n0\n4\n8\n12\n16\n[0, 2, 4, 6, 8, 10, 12, 14, 16]\n[9, 7, 5, 3, 1, -1]\n"
    }
   ],
   "source": [
    "# 循环\n",
    "for name in names:\n",
    "    print(name)\n",
    "\n",
    "# 数值列表 range() range类型，但可以下标查找\n",
    "for x in range(2, 5):  # 输出2，3，4，不包括5,默认步长为1\n",
    "    print(x)\n",
    "\n",
    "for x in range(0, 17, 4): # 步长为4，输出0-17里4的公倍数\n",
    "    print(x)\n",
    "fours = list(range(0, 17, 2)) #生成list\n",
    "print(fours)\n",
    "\n",
    "\n",
    "print(list(range(9, -2, -2)))  # [9, 7, 5, 3, 1, -1]"
   ]
  },
  {
   "cell_type": "code",
   "execution_count": 3,
   "metadata": {},
   "outputs": [
    {
     "output_type": "stream",
     "name": "stdout",
     "text": "4025\n[101, 108, 127, 164, 225, 316, 443, 612, 829, 1100]\n"
    }
   ],
   "source": [
    "# max(), min(), sum(), len()\n",
    "# 数值分析非常舒服\n",
    "\n",
    "# 列表的快速生成\n",
    "cubes = [x ** 3 + 100 for x in range(1, 11)]\n",
    "print(sum(cubes))\n",
    "print(cubes)"
   ]
  },
  {
   "cell_type": "code",
   "execution_count": 1,
   "metadata": {},
   "outputs": [
    {
     "output_type": "stream",
     "name": "stdout",
     "text": "[0, 0, 0, 0, 0, 0, 0, 0]\n[0, 0, 0, 0, 0, 0, 0, 0]\n[0, 0, 0, 0, 0, 0, 0, 0]\n[0, 0, 0, 0, 0, 0, 0, 0]\n[0, 0, 0, 0, 0, 0, 0, 0]\n[0, 0, 0, 0, 0, 0, 0, 0]\n[0, 0, 0, 0, 0, 0, 0, 0]\n[0, 0, 0, 0, 0, 0, 0, 0]\n[0, 0, 0, 0, 0, 0, 0, 0]\n[0, 0, 0, 0, 0, 0, 0, 0]\n"
    }
   ],
   "source": [
    "# matrix\n",
    "matrix = [[0] * 8] * 10 # 10rows,8columns\n",
    "for row in matrix:\n",
    "    print(row)"
   ]
  },
  {
   "cell_type": "code",
   "execution_count": 3,
   "metadata": {},
   "outputs": [
    {
     "output_type": "stream",
     "name": "stdout",
     "text": "[1, 2, 3, 4, 5, 6, 7, 8]\n[2, 4, 6, 8, 10, 12, 14, 16]\n[3, 6, 9, 12, 15, 18, 21, 24]\n[4, 8, 12, 16, 20, 24, 28, 32]\n[5, 10, 15, 20, 25, 30, 35, 40]\n[6, 12, 18, 24, 30, 36, 42, 48]\n[7, 14, 21, 28, 35, 42, 49, 56]\n[8, 16, 24, 32, 40, 48, 56, 64]\n[9, 18, 27, 36, 45, 54, 63, 72]\n[10, 20, 30, 40, 50, 60, 70, 80]\n"
    }
   ],
   "source": [
    "matrix = [[(r + 1) * (c + 1) for c in range(8)] for r in range(10)]  # 这样写可以，但不易理解\n",
    "for row in matrix:\n",
    "    print(row)"
   ]
  },
  {
   "cell_type": "code",
   "execution_count": 6,
   "metadata": {},
   "outputs": [
    {
     "output_type": "stream",
     "name": "stdout",
     "text": "['a0', 'a1', 'a2', 'a3', 'b0', 'b1', 'b2', 'b3', 'c0', 'c1', 'c2', 'c3']\n['a0', 'a1', 'a2', 'a3', 'b0', 'b1', 'b2', 'b3', 'c0', 'c1', 'c2', 'c3']\n"
    }
   ],
   "source": [
    "variables = [x + y for x in 'abc' for y in '0123']  # 字符串也是可枚举类型, 序列类型都可以枚举\n",
    "print(variables)\n",
    "\n",
    "# 等价于\n",
    "variables = []\n",
    "for x in 'abc':\n",
    "    for y in '0123':\n",
    "        variables.append(x + y)\n",
    "print(variables)"
   ]
  },
  {
   "cell_type": "code",
   "execution_count": 11,
   "metadata": {},
   "outputs": [
    {
     "output_type": "execute_result",
     "data": {
      "text/plain": "False"
     },
     "metadata": {},
     "execution_count": 11
    }
   ],
   "source": [
    "# in / not in\n",
    "'a' in 'string'"
   ]
  },
  {
   "cell_type": "code",
   "execution_count": 12,
   "metadata": {},
   "outputs": [
    {
     "output_type": "execute_result",
     "data": {
      "text/plain": "True"
     },
     "metadata": {},
     "execution_count": 12
    }
   ],
   "source": [
    "'rin' in 'string'"
   ]
  },
  {
   "cell_type": "code",
   "execution_count": 13,
   "metadata": {},
   "outputs": [
    {
     "output_type": "execute_result",
     "data": {
      "text/plain": "True"
     },
     "metadata": {},
     "execution_count": 13
    }
   ],
   "source": [
    "'a' not in 'string'"
   ]
  },
  {
   "cell_type": "code",
   "execution_count": 21,
   "metadata": {},
   "outputs": [
    {
     "output_type": "stream",
     "name": "stdout",
     "text": "3\n0\n['bob', 'henry', 'mary', 'bob', 'bob', 'jack']\n['bob', 'henry', 'mary', 'bob', 'bob', 'jack', 'henry', 'mary']\n5\n['bob', 'mary', 'bob', 'bob', 'jack', 'henry', 'mary']\n"
    }
   ],
   "source": [
    "# 成员函数\n",
    "dummy = ['bob', 'henry', 'mary', 'bob', 'bob']\n",
    "print(dummy.count('bob')) # 计算数量\n",
    "print(dummy.count(99))\n",
    "dummy.append('jack')\n",
    "print(dummy)\n",
    "dummy.extend(['henry', 'mary']) # 扩展，不生成新列表\n",
    "print(dummy)\n",
    "# dummy2 = dummy + ['henry', 'mary'] # 生成了新的列表\n",
    "# print(dummy2)\n",
    "print(dummy.index('jack')) # 寻找索引\n",
    "dummy.remove('henry') # 移除第一个\n",
    "print(dummy)\n",
    "dummy.clear() # dummy = [], 自己会垃圾回收"
   ]
  },
  {
   "cell_type": "code",
   "execution_count": 22,
   "metadata": {},
   "outputs": [
    {
     "output_type": "stream",
     "name": "stdout",
     "text": "[]\n['jack', 'mary', 'tom', 'henry', 'dorothy']\n"
    }
   ],
   "source": [
    "# 复制\n",
    "names = ['jack', 'mary', 'tom', 'henry', 'dorothy']\n",
    "namesAssigned = names # 同一个列表，两个名字引用\n",
    "namesCopy = names.copy() # 生成了新的列表\n",
    "namesAssigned.clear() # 指向的列表被清除了\n",
    "print(names) \n",
    "print(namesCopy) # copy()的列表还存在"
   ]
  },
  {
   "cell_type": "code",
   "execution_count": 36,
   "metadata": {},
   "outputs": [
    {
     "output_type": "stream",
     "name": "stdout",
     "text": "[3, 4, 5, 6, 7, 8]\n[3, 4, 5, 6, 7, 8, 9]\n[0, 1, 2, 3, 4, 5, 6, 7, 8]\n[4, 5, 6, 7, 8]\n[1, 3, 5, 7]\n[9, 7, 5, 3]\n[0, 1, 2, 3, 4, 5, 6, 7, 8, 9]\n[9, 7, 5, 3, 1]\n"
    }
   ],
   "source": [
    "# 切片\n",
    "numbers = [x for x in range(10)]\n",
    "print(numbers[3:9]) # 生成新列表，不影响numbers本身 3:9:1\n",
    "print(numbers[3:]) # 3:10:1\n",
    "print(numbers[:9]) # 0:9:1\n",
    "print(numbers[-6:-1]) # 10-6:10-1:1\n",
    "print(numbers[1:9:2])\n",
    "print(numbers[-1:1:-2]) # 10-1:1:-2\n",
    "print(numbers[:]) # 0:len(numbers):1, 等价于numbers.copy()\n",
    "numReversed = numbers[::-2] # len(numbers)-1:0:-2  逆序，不需要用for循环了\n",
    "print(numReversed)"
   ]
  }
 ],
 "metadata": {
  "language_info": {
   "codemirror_mode": {
    "name": "ipython",
    "version": 3
   },
   "file_extension": ".py",
   "mimetype": "text/x-python",
   "name": "python",
   "nbconvert_exporter": "python",
   "pygments_lexer": "ipython3",
   "version": "3.7.3-final"
  },
  "orig_nbformat": 2,
  "kernelspec": {
   "name": "python37364bit55beb8ed8f2441f2a1b8f4aa287895d1",
   "display_name": "Python 3.7.3 64-bit"
  }
 },
 "nbformat": 4,
 "nbformat_minor": 2
}